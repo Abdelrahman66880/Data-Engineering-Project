{
 "cells": [
  {
   "cell_type": "markdown",
   "id": "ed83c9da",
   "metadata": {},
   "source": [
    "# silver to gold"
   ]
  },
  {
   "cell_type": "code",
   "execution_count": null,
   "id": "fbf3a7e6",
   "metadata": {},
   "outputs": [],
   "source": [
    "dbutils.fs.mkdirs(\"/mnt/gold\")"
   ]
  },
  {
   "cell_type": "code",
   "execution_count": null,
   "id": "20a1a346",
   "metadata": {},
   "outputs": [],
   "source": [
    "dbutils.fs.ls(\"/mnt/gold/\")"
   ]
  },
  {
   "cell_type": "code",
   "execution_count": null,
   "id": "90c99656",
   "metadata": {},
   "outputs": [],
   "source": [
    "input_path = \"/mnt/silver/SalesLT/Address/\""
   ]
  },
  {
   "cell_type": "code",
   "execution_count": null,
   "id": "caea3784",
   "metadata": {},
   "outputs": [],
   "source": [
    "df = spark.read.format(\"delta\").load(input_path)"
   ]
  },
  {
   "cell_type": "code",
   "execution_count": null,
   "id": "32672e06",
   "metadata": {},
   "outputs": [],
   "source": [
    "display(df)"
   ]
  },
  {
   "cell_type": "markdown",
   "id": "c74c5365",
   "metadata": {},
   "source": [
    "# Applying transformation for all tables"
   ]
  },
  {
   "cell_type": "code",
   "execution_count": null,
   "id": "1d1f3563",
   "metadata": {},
   "outputs": [],
   "source": [
    "table_name = []\n",
    "for i in dbutils.fs.ls(\"/mnt/silver/SalesLT\"):\n",
    "    table_name.append(i.name.split(\"/\")[0])\n",
    "\n"
   ]
  },
  {
   "cell_type": "code",
   "execution_count": null,
   "id": "226d13a5",
   "metadata": {},
   "outputs": [],
   "source": [
    "for name in table_name:\n",
    "    path = '/mnt/silver/SalesLT/' + name\n",
    "    print(path)\n",
    "    df = spark.read.format('delta').load(path)\n",
    "\n",
    "    # Get the list of column names\n",
    "    column_names = df.columns\n",
    "\n",
    "    for old_col_name in column_names:\n",
    "        # Convert column name from ColumnName to Column_Name format\n",
    "        new_col_name = \"\".join([\"_\" + char if char.isupper() and not old_col_name[i - 1].isupper() else char for i, char in enumerate(old_col_name)]).lstrip(\"_\")\n",
    "\n",
    "        # Change the column name using withColumnRenamed and regexp_replace\n",
    "        df = df.withColumnRenamed(old_col_name, new_col_name)\n",
    "\n",
    "    output_path = '/mnt/gold/SalesLT/' + name + '/'\n",
    "    print(\"*\"*20)\n",
    "    print(output_path)\n",
    "    df.write.format('delta').mode(\"overwrite\").save(output_path)\n"
   ]
  },
  {
   "cell_type": "code",
   "execution_count": null,
   "id": "27f6f045",
   "metadata": {},
   "outputs": [],
   "source": [
    "display(df)"
   ]
  },
  {
   "cell_type": "code",
   "execution_count": null,
   "id": "01f49148",
   "metadata": {},
   "outputs": [],
   "source": [
    "display(dbutils.fs.ls('/mnt/silver/SalesLT/'))\n",
    "display(dbutils.fs.ls('/mnt/gold/SalesLT/'))"
   ]
  }
 ],
 "metadata": {
  "kernelspec": {
   "display_name": "Python 3 (ipykernel)",
   "language": "python",
   "name": "python3"
  },
  "language_info": {
   "codemirror_mode": {
    "name": "ipython",
    "version": 3
   },
   "file_extension": ".py",
   "mimetype": "text/x-python",
   "name": "python",
   "nbconvert_exporter": "python",
   "pygments_lexer": "ipython3",
   "version": "3.11.5"
  }
 },
 "nbformat": 4,
 "nbformat_minor": 5
}
