{
 "cells": [
  {
   "cell_type": "markdown",
   "id": "69cbc72f",
   "metadata": {},
   "source": [
    "# bronze to silver"
   ]
  },
  {
   "cell_type": "code",
   "execution_count": null,
   "id": "c02c241e",
   "metadata": {},
   "outputs": [],
   "source": [
    "dbutils.fs.ls('/mnt/bronze/SalesLT/')"
   ]
  },
  {
   "cell_type": "code",
   "execution_count": null,
   "id": "0889ba97",
   "metadata": {},
   "outputs": [],
   "source": [
    "input_path = '/mnt/bronze/SalesLT/Address/Address.parquet'"
   ]
  },
  {
   "cell_type": "code",
   "execution_count": null,
   "id": "370a83cf",
   "metadata": {},
   "outputs": [],
   "source": [
    "df = spark.read.format('parquet').load(input_path)"
   ]
  },
  {
   "cell_type": "code",
   "execution_count": null,
   "id": "c09aa331",
   "metadata": {},
   "outputs": [],
   "source": [
    "display(df)"
   ]
  },
  {
   "cell_type": "code",
   "execution_count": null,
   "id": "1b6468cf",
   "metadata": {},
   "outputs": [],
   "source": [
    "from pyspark.sql.functions import from_utc_timestamp, date_format\n",
    "from pyspark.sql.types import TimestampType\n",
    "\n",
    "df = df.withColumn(\"ModifiedDate\", date_format(from_utc_timestamp(df[\"ModifiedDate\"].cast(TimestampType()), \"UTC\"), \"yyyy-MM-dd\"))"
   ]
  },
  {
   "cell_type": "markdown",
   "id": "49cc6360",
   "metadata": {},
   "source": [
    "# Applying transformation for all tables"
   ]
  },
  {
   "cell_type": "code",
   "execution_count": null,
   "id": "c128fedf",
   "metadata": {},
   "outputs": [],
   "source": [
    "table_name = []\n",
    "for i in dbutils.fs.ls(\"/mnt/bronze/SalesLT\"):\n",
    "    table_name.append(i.name.split(\"/\")[0])"
   ]
  },
  {
   "cell_type": "code",
   "execution_count": null,
   "id": "49815347",
   "metadata": {},
   "outputs": [],
   "source": [
    "from pyspark.sql.functions import from_utc_timestamp, date_format\n",
    "from pyspark.sql.types import TimestampType\n",
    "\n",
    "for i in table_name:\n",
    "    path = '/mnt/bronze/SalesLT/' + i + '/' + i + '.parquet'\n",
    "    df = spark.read.format('parquet').load(path)\n",
    "    column = df.columns\n",
    "\n",
    "    for col in column:\n",
    "        if \"Date\" in col or \"date\" in col:\n",
    "            df = df.withColumn(col, date_format(from_utc_timestamp(df[col].cast(TimestampType()), \"UTC\"), \"yyyy-MM-dd\"))\n",
    "\n",
    "    output_path = '/mnt/silver/SalesLT/' + i + '/'\n",
    "    df.write.format('delta').mode(\"overwrite\").save(output_path)"
   ]
  },
  {
   "cell_type": "code",
   "execution_count": null,
   "id": "7c4f3b2d",
   "metadata": {},
   "outputs": [],
   "source": [
    "display(df)"
   ]
  }
 ],
 "metadata": {
  "kernelspec": {
   "display_name": "Python 3 (ipykernel)",
   "language": "python",
   "name": "python3"
  },
  "language_info": {
   "codemirror_mode": {
    "name": "ipython",
    "version": 3
   },
   "file_extension": ".py",
   "mimetype": "text/x-python",
   "name": "python",
   "nbconvert_exporter": "python",
   "pygments_lexer": "ipython3",
   "version": "3.11.5"
  }
 },
 "nbformat": 4,
 "nbformat_minor": 5
}
